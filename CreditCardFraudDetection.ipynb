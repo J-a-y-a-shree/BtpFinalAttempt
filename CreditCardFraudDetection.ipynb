{
  "nbformat": 4,
  "nbformat_minor": 0,
  "metadata": {
    "colab": {
      "provenance": [],
      "authorship_tag": "ABX9TyM/GcCMdXAI2B/Ck9RBKoKO",
      "include_colab_link": true
    },
    "kernelspec": {
      "name": "python3",
      "display_name": "Python 3"
    },
    "language_info": {
      "name": "python"
    }
  },
  "cells": [
    {
      "cell_type": "markdown",
      "metadata": {
        "id": "view-in-github",
        "colab_type": "text"
      },
      "source": [
        "<a href=\"https://colab.research.google.com/github/J-a-y-a-shree/BtpFinalAttempt/blob/main/CreditCardFraudDetection.ipynb\" target=\"_parent\"><img src=\"https://colab.research.google.com/assets/colab-badge.svg\" alt=\"Open In Colab\"/></a>"
      ]
    },
    {
      "cell_type": "code",
      "execution_count": 3,
      "metadata": {
        "id": "caUeDEsZmfBw"
      },
      "outputs": [],
      "source": [
        "import numpy as np\n",
        "import pandas as pd\n",
        "import matplotlib.pyplot as plt\n",
        "import seaborn as sns\n",
        "from matplotlib import gridspec"
      ]
    },
    {
      "cell_type": "code",
      "source": [
        "data = pd.read_csv(\"/content/creditcard.csv\")\n",
        "print(data.head())"
      ],
      "metadata": {
        "colab": {
          "base_uri": "https://localhost:8080/"
        },
        "id": "xdiHAr3Tm3sj",
        "outputId": "6c687bb5-9e5a-4cfa-b660-b7fdd4a6620d"
      },
      "execution_count": 5,
      "outputs": [
        {
          "output_type": "stream",
          "name": "stdout",
          "text": [
            "   Time        V1        V2        V3        V4        V5        V6        V7  \\\n",
            "0   0.0 -1.359807 -0.072781  2.536347  1.378155 -0.338321  0.462388  0.239599   \n",
            "1   0.0  1.191857  0.266151  0.166480  0.448154  0.060018 -0.082361 -0.078803   \n",
            "2   1.0 -1.358354 -1.340163  1.773209  0.379780 -0.503198  1.800499  0.791461   \n",
            "3   1.0 -0.966272 -0.185226  1.792993 -0.863291 -0.010309  1.247203  0.237609   \n",
            "4   2.0 -1.158233  0.877737  1.548718  0.403034 -0.407193  0.095921  0.592941   \n",
            "\n",
            "         V8        V9  ...       V21       V22       V23       V24       V25  \\\n",
            "0  0.098698  0.363787  ... -0.018307  0.277838 -0.110474  0.066928  0.128539   \n",
            "1  0.085102 -0.255425  ... -0.225775 -0.638672  0.101288 -0.339846  0.167170   \n",
            "2  0.247676 -1.514654  ...  0.247998  0.771679  0.909412 -0.689281 -0.327642   \n",
            "3  0.377436 -1.387024  ... -0.108300  0.005274 -0.190321 -1.175575  0.647376   \n",
            "4 -0.270533  0.817739  ... -0.009431  0.798278 -0.137458  0.141267 -0.206010   \n",
            "\n",
            "        V26       V27       V28  Amount  Class  \n",
            "0 -0.189115  0.133558 -0.021053  149.62    0.0  \n",
            "1  0.125895 -0.008983  0.014724    2.69    0.0  \n",
            "2 -0.139097 -0.055353 -0.059752  378.66    0.0  \n",
            "3 -0.221929  0.062723  0.061458  123.50    0.0  \n",
            "4  0.502292  0.219422  0.215153   69.99    0.0  \n",
            "\n",
            "[5 rows x 31 columns]\n"
          ]
        }
      ]
    },
    {
      "cell_type": "code",
      "source": [
        "print(data.describe())"
      ],
      "metadata": {
        "colab": {
          "base_uri": "https://localhost:8080/"
        },
        "id": "893gpMBsnNpj",
        "outputId": "2263fe6c-c592-4527-9e15-a7725ab3c593"
      },
      "execution_count": 6,
      "outputs": [
        {
          "output_type": "stream",
          "name": "stdout",
          "text": [
            "                Time             V1             V2             V3  \\\n",
            "count  190239.000000  190239.000000  190239.000000  190238.000000   \n",
            "mean    67549.991973      -0.122651       0.010621       0.371211   \n",
            "std     32625.905925       1.884429       1.621432       1.432007   \n",
            "min         0.000000     -56.407510     -72.715728     -33.680984   \n",
            "25%     43257.000000      -0.968132      -0.571992      -0.252441   \n",
            "50%     65180.000000      -0.114371       0.086750       0.532221   \n",
            "75%     84873.000000       1.203983       0.786654       1.247291   \n",
            "max    128750.000000       2.439207      22.057729       9.382558   \n",
            "\n",
            "                  V4             V5             V6             V7  \\\n",
            "count  190238.000000  190238.000000  190238.000000  190238.000000   \n",
            "mean        0.086960      -0.131764       0.050747      -0.059859   \n",
            "std         1.392225       1.356895       1.306926       1.213701   \n",
            "min        -5.683171     -42.147898     -26.160506     -43.557242   \n",
            "25%        -0.779671      -0.798128      -0.704050      -0.580271   \n",
            "50%         0.089121      -0.187199      -0.213456      -0.017382   \n",
            "75%         0.903340       0.437256       0.446171       0.488333   \n",
            "max        16.875344      34.801666      22.529298      36.677268   \n",
            "\n",
            "                  V8             V9  ...            V21            V22  \\\n",
            "count  190238.000000  190238.000000  ...  190238.000000  190238.000000   \n",
            "mean        0.021667       0.011955  ...      -0.017987      -0.058429   \n",
            "std         1.212357       1.139973  ...       0.739441       0.684783   \n",
            "min       -73.216718     -13.434066  ...     -34.830382     -10.933144   \n",
            "25%        -0.175564      -0.661785  ...      -0.228117      -0.540614   \n",
            "50%         0.046786      -0.074947  ...      -0.046288      -0.044280   \n",
            "75%         0.341456       0.630310  ...       0.144670       0.405611   \n",
            "max        20.007208      15.594995  ...      27.202839      10.503090   \n",
            "\n",
            "                 V23            V24            V25            V26  \\\n",
            "count  190238.000000  190238.000000  190238.000000  190238.000000   \n",
            "mean       -0.017677       0.005460       0.070235       0.007879   \n",
            "std         0.605855       0.602417       0.483307       0.489267   \n",
            "min       -44.807735      -2.836627     -10.295397      -2.604551   \n",
            "25%        -0.169159      -0.339365      -0.227953      -0.331237   \n",
            "50%        -0.030961       0.054460       0.114020      -0.060716   \n",
            "75%         0.110402       0.420002       0.388954       0.264620   \n",
            "max        19.002942       4.022866       7.519589       3.517346   \n",
            "\n",
            "                 V27            V28         Amount          Class  \n",
            "count  190238.000000  190238.000000  190238.000000  190238.000000  \n",
            "mean        0.001805       0.002104      89.281222       0.001950  \n",
            "std         0.393436       0.311373     248.469377       0.044118  \n",
            "min       -22.565679     -11.710896       0.000000       0.000000  \n",
            "25%        -0.066818      -0.038473       5.990000       0.000000  \n",
            "50%         0.006767       0.019242      22.800000       0.000000  \n",
            "75%         0.089234       0.078130      79.000000       0.000000  \n",
            "max        12.152401      33.847808   19656.530000       1.000000  \n",
            "\n",
            "[8 rows x 31 columns]\n"
          ]
        }
      ]
    },
    {
      "cell_type": "code",
      "source": [
        "fraud = data[data['Class'] == 1]\n",
        "valid = data[data['Class'] == 0]\n",
        "outlierFraction = len(fraud)/float(len(valid))\n",
        "print(outlierFraction)\n",
        "print('Fraud Cases: {}'.format(len(data[data['Class'] == 1])))\n",
        "print('Valid Transactions: {}'.format(len(data[data['Class'] == 0])))"
      ],
      "metadata": {
        "colab": {
          "base_uri": "https://localhost:8080/"
        },
        "id": "S3li9VnAnPS0",
        "outputId": "2f9d2b64-5cb3-4b69-d1e9-16586a9f4751"
      },
      "execution_count": 7,
      "outputs": [
        {
          "output_type": "stream",
          "name": "stdout",
          "text": [
            "0.001953999378512327\n",
            "Fraud Cases: 371\n",
            "Valid Transactions: 189867\n"
          ]
        }
      ]
    },
    {
      "cell_type": "code",
      "source": [
        "print(\"Amount details of the fraudulent transaction\")\n",
        "fraud.Amount.describe()"
      ],
      "metadata": {
        "colab": {
          "base_uri": "https://localhost:8080/",
          "height": 352
        },
        "id": "S-eKrExynSJ0",
        "outputId": "c27f0a24-28aa-4f2b-bc6e-9ece4c397481"
      },
      "execution_count": 8,
      "outputs": [
        {
          "output_type": "stream",
          "name": "stdout",
          "text": [
            "Amount details of the fraudulent transaction\n"
          ]
        },
        {
          "output_type": "execute_result",
          "data": {
            "text/plain": [
              "count     371.000000\n",
              "mean      115.161968\n",
              "std       247.521805\n",
              "min         0.000000\n",
              "25%         1.000000\n",
              "50%        11.400000\n",
              "75%       102.750000\n",
              "max      2125.870000\n",
              "Name: Amount, dtype: float64"
            ],
            "text/html": [
              "<div>\n",
              "<style scoped>\n",
              "    .dataframe tbody tr th:only-of-type {\n",
              "        vertical-align: middle;\n",
              "    }\n",
              "\n",
              "    .dataframe tbody tr th {\n",
              "        vertical-align: top;\n",
              "    }\n",
              "\n",
              "    .dataframe thead th {\n",
              "        text-align: right;\n",
              "    }\n",
              "</style>\n",
              "<table border=\"1\" class=\"dataframe\">\n",
              "  <thead>\n",
              "    <tr style=\"text-align: right;\">\n",
              "      <th></th>\n",
              "      <th>Amount</th>\n",
              "    </tr>\n",
              "  </thead>\n",
              "  <tbody>\n",
              "    <tr>\n",
              "      <th>count</th>\n",
              "      <td>371.000000</td>\n",
              "    </tr>\n",
              "    <tr>\n",
              "      <th>mean</th>\n",
              "      <td>115.161968</td>\n",
              "    </tr>\n",
              "    <tr>\n",
              "      <th>std</th>\n",
              "      <td>247.521805</td>\n",
              "    </tr>\n",
              "    <tr>\n",
              "      <th>min</th>\n",
              "      <td>0.000000</td>\n",
              "    </tr>\n",
              "    <tr>\n",
              "      <th>25%</th>\n",
              "      <td>1.000000</td>\n",
              "    </tr>\n",
              "    <tr>\n",
              "      <th>50%</th>\n",
              "      <td>11.400000</td>\n",
              "    </tr>\n",
              "    <tr>\n",
              "      <th>75%</th>\n",
              "      <td>102.750000</td>\n",
              "    </tr>\n",
              "    <tr>\n",
              "      <th>max</th>\n",
              "      <td>2125.870000</td>\n",
              "    </tr>\n",
              "  </tbody>\n",
              "</table>\n",
              "</div><br><label><b>dtype:</b> float64</label>"
            ]
          },
          "metadata": {},
          "execution_count": 8
        }
      ]
    },
    {
      "cell_type": "code",
      "source": [
        "print(\"details of valid transaction\")\n",
        "valid.Amount.describe()"
      ],
      "metadata": {
        "colab": {
          "base_uri": "https://localhost:8080/",
          "height": 352
        },
        "id": "t9tLvS6Jnark",
        "outputId": "2bf95d8e-b18c-4e38-aaa0-8ca99e0c5fee"
      },
      "execution_count": 9,
      "outputs": [
        {
          "output_type": "stream",
          "name": "stdout",
          "text": [
            "details of valid transaction\n"
          ]
        },
        {
          "output_type": "execute_result",
          "data": {
            "text/plain": [
              "count    189867.000000\n",
              "mean         89.230652\n",
              "std         248.469236\n",
              "min           0.000000\n",
              "25%           5.990000\n",
              "50%          22.810000\n",
              "75%          79.000000\n",
              "max       19656.530000\n",
              "Name: Amount, dtype: float64"
            ],
            "text/html": [
              "<div>\n",
              "<style scoped>\n",
              "    .dataframe tbody tr th:only-of-type {\n",
              "        vertical-align: middle;\n",
              "    }\n",
              "\n",
              "    .dataframe tbody tr th {\n",
              "        vertical-align: top;\n",
              "    }\n",
              "\n",
              "    .dataframe thead th {\n",
              "        text-align: right;\n",
              "    }\n",
              "</style>\n",
              "<table border=\"1\" class=\"dataframe\">\n",
              "  <thead>\n",
              "    <tr style=\"text-align: right;\">\n",
              "      <th></th>\n",
              "      <th>Amount</th>\n",
              "    </tr>\n",
              "  </thead>\n",
              "  <tbody>\n",
              "    <tr>\n",
              "      <th>count</th>\n",
              "      <td>189867.000000</td>\n",
              "    </tr>\n",
              "    <tr>\n",
              "      <th>mean</th>\n",
              "      <td>89.230652</td>\n",
              "    </tr>\n",
              "    <tr>\n",
              "      <th>std</th>\n",
              "      <td>248.469236</td>\n",
              "    </tr>\n",
              "    <tr>\n",
              "      <th>min</th>\n",
              "      <td>0.000000</td>\n",
              "    </tr>\n",
              "    <tr>\n",
              "      <th>25%</th>\n",
              "      <td>5.990000</td>\n",
              "    </tr>\n",
              "    <tr>\n",
              "      <th>50%</th>\n",
              "      <td>22.810000</td>\n",
              "    </tr>\n",
              "    <tr>\n",
              "      <th>75%</th>\n",
              "      <td>79.000000</td>\n",
              "    </tr>\n",
              "    <tr>\n",
              "      <th>max</th>\n",
              "      <td>19656.530000</td>\n",
              "    </tr>\n",
              "  </tbody>\n",
              "</table>\n",
              "</div><br><label><b>dtype:</b> float64</label>"
            ]
          },
          "metadata": {},
          "execution_count": 9
        }
      ]
    },
    {
      "cell_type": "code",
      "source": [
        "corrmat = data.corr()\n",
        "fig = plt.figure(figsize = (12, 9))\n",
        "sns.heatmap(corrmat, vmax = .8, square = True)\n",
        "plt.show()"
      ],
      "metadata": {
        "colab": {
          "base_uri": "https://localhost:8080/",
          "height": 799
        },
        "id": "U0AXWXyVneDc",
        "outputId": "8320f52d-9835-4946-c7bf-41f9d1d886af"
      },
      "execution_count": 10,
      "outputs": [
        {
          "output_type": "display_data",
          "data": {
            "text/plain": [
              "<Figure size 1200x900 with 2 Axes>"
            ],
            "image/png": "[encoded data removed]"
          },
          "metadata": {}
        }
      ]
    },
    {
      "cell_type": "code",
      "source": [
        "import pandas as pd\n",
        "import numpy as np\n",
        "from sklearn.model_selection import train_test_split\n",
        "\n",
        "# dividing the X and the Y from the dataset\n",
        "X = data.drop(['Class'], axis=1)\n",
        "Y = data['Class']\n",
        "print(X.shape)\n",
        "print(Y.shape)\n",
        "\n",
        "# getting just the values for the sake of processing\n",
        "xData = X.values\n",
        "yData = Y.values\n",
        "\n",
        "# Split the data into training and testing sets\n",
        "xTrain, xTest, yTrain, yTest = train_test_split(\n",
        "    xData, yData, test_size=0.2, random_state=42\n",
        ")\n",
        "\n",
        "# Option A: save as CSV (with column names)\n",
        "xTrain_df = pd.DataFrame(xTrain, columns=X.columns)\n",
        "xTest_df  = pd.DataFrame(xTest,  columns=X.columns)\n",
        "yTrain_df = pd.DataFrame(yTrain, columns=['Class'])\n",
        "yTest_df  = pd.DataFrame(yTest,  columns=['Class'])\n",
        "\n",
        "xTrain_df.to_csv('x_train.csv', index=False)\n",
        "xTest_df.to_csv( 'x_test.csv',  index=False)\n",
        "yTrain_df.to_csv('y_train.csv', index=False)\n",
        "yTest_df.to_csv( 'y_test.csv',  index=False)\n",
        "\n",
        "# Option B: save as NumPy binary files\n",
        "np.save('x_train.npy', xTrain)\n",
        "np.save('x_test.npy',  xTest)\n",
        "np.save('y_train.npy', yTrain)\n",
        "np.save('y_test.npy',  yTest)\n"
      ],
      "metadata": {
        "colab": {
          "base_uri": "https://localhost:8080/"
        },
        "id": "GIDrH4F7njpm",
        "outputId": "6b754f8a-efaa-415a-86f5-9057fc6994b7"
      },
      "execution_count": 11,
      "outputs": [
        {
          "output_type": "stream",
          "name": "stdout",
          "text": [
            "(190239, 30)\n",
            "(190239,)\n"
          ]
        }
      ]
    },
    {
      "cell_type": "code",
      "source": [
        "from sklearn.ensemble import RandomForestClassifier\n",
        "\n",
        "rfc = RandomForestClassifier()\n",
        "rfc.fit(xTrain, yTrain)\n",
        "# predictions\n",
        "yPred = rfc.predict(xTest)"
      ],
      "metadata": {
        "id": "yVmdIYrcno4-"
      },
      "execution_count": 12,
      "outputs": []
    },
    {
      "cell_type": "code",
      "source": [
        "from sklearn.impute import SimpleImputer\n",
        "print(\"NaN values in yTest before imputation:\", np.isnan(yTest).sum())\n",
        "\n",
        "imputer = SimpleImputer(strategy='most_frequent')\n",
        "yTest = imputer.fit_transform(yTest.reshape(-1, 1)).flatten()\n",
        "print(\"NaN values in yTest after imputation:\", np.isnan(yTest).sum())"
      ],
      "metadata": {
        "colab": {
          "base_uri": "https://localhost:8080/"
        },
        "id": "ssggh4OyMldp",
        "outputId": "9ebc017d-fa23-40ec-d0fd-a195f84e938f"
      },
      "execution_count": 13,
      "outputs": [
        {
          "output_type": "stream",
          "name": "stdout",
          "text": [
            "NaN values in yTest before imputation: 1\n",
            "NaN values in yTest after imputation: 0\n"
          ]
        }
      ]
    },
    {
      "cell_type": "code",
      "source": [
        "from sklearn.metrics import accuracy_score, precision_score, recall_score, f1_score, matthews_corrcoef, confusion_matrix # Evaluation metrics\n",
        "accuracy = accuracy_score(yTest, yPred)\n",
        "precision = precision_score(yTest, yPred)\n",
        "recall = recall_score(yTest, yPred)\n",
        "f1 = f1_score(yTest, yPred)\n",
        "mcc = matthews_corrcoef(yTest, yPred)\n",
        "\n",
        "print(\"Model Evaluation Metrics:\")\n",
        "print(f\"Accuracy: {accuracy:.4f}\")\n",
        "print(f\"Precision: {precision:.4f}\")\n",
        "print(f\"Recall: {recall:.4f}\")\n",
        "print(f\"F1-Score: {f1:.4f}\")\n",
        "print(f\"Matthews Correlation Coefficient: {mcc:.4f}\")\n",
        "\n",
        "# Confusion matrix\n",
        "conf_matrix = confusion_matrix(yTest, yPred)\n",
        "plt.figure(figsize=(8, 6))\n",
        "sns.heatmap(conf_matrix, annot=True, fmt=\"d\", cmap=\"Blues\",\n",
        "            xticklabels=['Normal', 'Fraud'], yticklabels=['Normal', 'Fraud'])\n",
        "plt.title(\"Confusion Matrix\")\n",
        "plt.xlabel(\"Predicted Class\")\n",
        "plt.ylabel(\"True Class\")\n",
        "plt.show()"
      ],
      "metadata": {
        "colab": {
          "base_uri": "https://localhost:8080/",
          "height": 668
        },
        "id": "svwpDBcaMqa2",
        "outputId": "2697896c-7f2f-4fed-f80b-901aca7a235a"
      },
      "execution_count": 14,
      "outputs": [
        {
          "output_type": "stream",
          "name": "stdout",
          "text": [
            "Model Evaluation Metrics:\n",
            "Accuracy: 0.9996\n",
            "Precision: 0.9403\n",
            "Recall: 0.8514\n",
            "F1-Score: 0.8936\n",
            "Matthews Correlation Coefficient: 0.8945\n"
          ]
        },
        {
          "output_type": "display_data",
          "data": {
            "text/plain": [
              "<Figure size 800x600 with 2 Axes>"
            ],
            "image/png": "[encoded data removed]"
          },
          "metadata": {}
        }
      ]
    }
  ]
}